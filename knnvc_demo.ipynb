{
  "nbformat": 4,
  "nbformat_minor": 0,
  "metadata": {
    "colab": {
      "provenance": [],
      "gpuType": "T4",
      "include_colab_link": true
    },
    "kernelspec": {
      "name": "python3",
      "display_name": "Python 3"
    },
    "language_info": {
      "name": "python"
    },
    "accelerator": "GPU"
  },
  "cells": [
    {
      "cell_type": "markdown",
      "metadata": {
        "id": "view-in-github",
        "colab_type": "text"
      },
      "source": [
        "<a href=\"https://colab.research.google.com/github/BanDanBan1/knn-vc/blob/master/knnvc_demo.ipynb\" target=\"_parent\"><img src=\"https://colab.research.google.com/assets/colab-badge.svg\" alt=\"Open In Colab\"/></a>"
      ]
    },
    {
      "cell_type": "code",
      "source": [
        "# if needed mount drive (/content/drive/MyDrive/)\n",
        "\n",
        "from google.colab import drive\n",
        "drive.mount('/content/drive')"
      ],
      "metadata": {
        "id": "yvJ4_7K5x8d-"
      },
      "execution_count": null,
      "outputs": []
    },
    {
      "cell_type": "code",
      "execution_count": null,
      "metadata": {
        "id": "L8If-TOe4BZO"
      },
      "outputs": [],
      "source": [
        "import torch, torchaudio\n",
        "\n",
        "knn_vc = torch.hub.load('BanDanBan1/knn-vc', 'knn_vc', prematched=True, trust_repo=True, pretrained=True, device='cuda')"
      ]
    },
    {
      "cell_type": "code",
      "source": [],
      "metadata": {
        "id": "HuljbszGbnR_"
      },
      "execution_count": null,
      "outputs": []
    },
    {
      "cell_type": "code",
      "source": [
        "# @title Set files PATH and NAME, then RUN Voice to Voice\n",
        "# @title  { vertical-output: true, display-mode: \"form\" }\n",
        "stem_path = \"/content/drive/MyDrive/קולות מאוב - רומן דיגיטלי/\" #@param {type:\"string\"}\n",
        "prefix = \"tirza\" #@param {type:\"string\"}\n",
        "\n",
        "#@markdown  recorded text to be spoken - **  WHAT to say\n",
        "src_ver = 'text-3' #@param {type:\"string\"}\n",
        "#@markdown  **  sound of VOICE to speak with\n",
        "ref_ver = 'audio-1-bad' #@param {type:\"string\"}\n",
        "\n",
        "\n",
        "# ===========\n",
        "def f_name(ver):\n",
        "  return stem_path + prefix + '-'+ ver+'.wav'\n",
        "\n",
        "# #@markdown  derived (changable) Text to say audio file\n",
        "src_wav_path = f_name(src_ver)\n",
        "ref_wav_path = f_name(ref_ver)\n",
        "# path to result\n",
        "OUT_wav_path = f_name(src_ver + '-'+ ref_ver+'.OUT')\n",
        "print(f\"Text {src_wav_path}\")\n",
        "print(f\"Voice {ref_wav_path}\")\n",
        "print(f\"OUT {OUT_wav_path}\")\n",
        "\n",
        "# get features of WHAT to say\n",
        "query_seq = knn_vc.get_features(src_wav_path)\n",
        "# get features of VOICE to speak with\n",
        "matching_set = knn_vc.get_matching_set([ref_wav_path,], vad_trigger_level=0)\n",
        "\n",
        "# produce new speech\n",
        "out_wav = knn_vc.match(query_seq, matching_set, topk=4)"
      ],
      "metadata": {
        "cellView": "form",
        "id": "o84Ew-vFbnr7"
      },
      "execution_count": null,
      "outputs": []
    },
    {
      "cell_type": "code",
      "source": [
        "import IPython.display as ipd"
      ],
      "metadata": {
        "id": "1YhPSQ4f4nF0"
      },
      "execution_count": null,
      "outputs": []
    },
    {
      "cell_type": "markdown",
      "source": [
        "# Preview result"
      ],
      "metadata": {
        "id": "r7Vpg6_Ui6t2"
      }
    },
    {
      "cell_type": "code",
      "source": [
        "ipd.Audio(out_wav.numpy(), rate=16000)"
      ],
      "metadata": {
        "id": "7-xbWSqf7iAK"
      },
      "execution_count": null,
      "outputs": []
    },
    {
      "cell_type": "markdown",
      "source": [
        "# Save OUT file"
      ],
      "metadata": {
        "id": "hMqbYggji_ej"
      }
    },
    {
      "cell_type": "code",
      "source": [
        "torchaudio.save(OUT_wav_path, out_wav[None], 16000)"
      ],
      "metadata": {
        "id": "QDA9xO_mB1eD"
      },
      "execution_count": null,
      "outputs": []
    },
    {
      "cell_type": "markdown",
      "source": [
        "<audio name=\"abstract-reader\" controls preload src=\"https://github.com/bshall/knn-vc/releases/download/v0.1/david-attenborough.wav\"></audio>"
      ],
      "metadata": {
        "id": "wyWtICjSECkF"
      }
    }
  ]
}