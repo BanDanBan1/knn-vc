{
  "nbformat": 4,
  "nbformat_minor": 0,
  "metadata": {
    "colab": {
      "provenance": [],
      "gpuType": "T4"
    },
    "kernelspec": {
      "name": "python3",
      "display_name": "Python 3"
    },
    "language_info": {
      "name": "python"
    },
    "accelerator": "GPU"
  },
  "cells": [
    {
      "cell_type": "code",
      "execution_count": null,
      "metadata": {
        "id": "L8If-TOe4BZO"
      },
      "outputs": [],
      "source": [
        "import torch, torchaudio\n",
        "\n",
        "knn_vc = torch.hub.load('BanDanBan1/knn-vc', 'knn_vc', prematched=True, trust_repo=True, pretrained=True, device='cuda')"
      ]
    },
    {
      "cell_type": "code",
      "source": [
        "# if needed mount drive (/content/drive/MyDrive/)\n",
        "\n",
        "from google.colab import drive\n",
        "drive.mount('/content/drive')"
      ],
      "metadata": {
        "id": "yvJ4_7K5x8d-"
      },
      "execution_count": null,
      "outputs": []
    },
    {
      "cell_type": "markdown",
      "source": [
        "# SET FILE NAMES of\n",
        "\n",
        "*   recorded text to be spoken - **WHAT** to say     (src)\n",
        "*   target speaker voice - **VOICE** to speak with   (ref)\n"
      ],
      "metadata": {
        "id": "duJ4Gzojyc-T"
      }
    },
    {
      "cell_type": "code",
      "source": [
        "stem_path = '/content/drive/MyDrive/קולות מאוב - רומן דיגיטלי/'\n",
        "prefix = 'תרצה/tirza'\n",
        "\n",
        "#  **  WHAT to say\n",
        "src_ver = 'text-1'\n",
        "# **  sound of VOICE to speak with\n",
        "ref_ver = 'audio-1'\n",
        "\n",
        "def f_name(ver):\n",
        "  return stem_path + prefix + '-'+ ver+'.wav'\n",
        "\n",
        "# path to 16kHz, single-channel, source waveform\n",
        "src_wav_path = f_name(src_ver)\n",
        "\n",
        "# path to 16kHz, single-channel, reference waveform\n",
        "ref_wav_path = f_name(ref_ver)\n",
        "\n",
        "# path to result\n",
        "OUT_wav_path = f_name(src_ver + '-'+ ref_ver+'.OUT')"
      ],
      "metadata": {
        "id": "-2FRDpkXy0ok"
      },
      "execution_count": 16,
      "outputs": []
    },
    {
      "cell_type": "markdown",
      "source": [
        "Run Voice to Voice\n"
      ],
      "metadata": {
        "id": "R0F7bRdBm8HR"
      }
    },
    {
      "cell_type": "code",
      "source": [
        "# get features of WHAT to say\n",
        "query_seq = knn_vc.get_features(src_wav_path)\n",
        "# get features of VOICE to speak with\n",
        "matching_set = knn_vc.get_matching_set([ref_wav_path,])\n",
        "\n",
        "# produce new speech\n",
        "out_wav = knn_vc.match(query_seq, matching_set, topk=4)"
      ],
      "metadata": {
        "id": "90enAprrzCGr"
      },
      "execution_count": null,
      "outputs": []
    },
    {
      "cell_type": "code",
      "source": [
        "import IPython.display as ipd"
      ],
      "metadata": {
        "id": "1YhPSQ4f4nF0"
      },
      "execution_count": null,
      "outputs": []
    },
    {
      "cell_type": "markdown",
      "source": [
        "# Preview result"
      ],
      "metadata": {
        "id": "r7Vpg6_Ui6t2"
      }
    },
    {
      "cell_type": "code",
      "source": [
        "ipd.Audio(out_wav.numpy(), rate=16000)"
      ],
      "metadata": {
        "id": "7-xbWSqf7iAK"
      },
      "execution_count": null,
      "outputs": []
    },
    {
      "cell_type": "markdown",
      "source": [
        "# Save OUT file"
      ],
      "metadata": {
        "id": "hMqbYggji_ej"
      }
    },
    {
      "cell_type": "code",
      "source": [
        "torchaudio.save(OUT_wav_path, out_wav[None], 16000)"
      ],
      "metadata": {
        "id": "QDA9xO_mB1eD"
      },
      "execution_count": null,
      "outputs": []
    },
    {
      "cell_type": "markdown",
      "source": [
        "<audio name=\"abstract-reader\" controls preload src=\"https://github.com/bshall/knn-vc/releases/download/v0.1/david-attenborough.wav\"></audio>"
      ],
      "metadata": {
        "id": "wyWtICjSECkF"
      }
    }
  ]
}