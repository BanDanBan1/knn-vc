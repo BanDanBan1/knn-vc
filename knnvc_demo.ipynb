{
  "nbformat": 4,
  "nbformat_minor": 0,
  "metadata": {
    "colab": {
      "provenance": [],
      "gpuType": "T4"
    },
    "kernelspec": {
      "name": "python3",
      "display_name": "Python 3"
    },
    "language_info": {
      "name": "python"
    },
    "accelerator": "GPU"
  },
  "cells": [
    {
      "cell_type": "code",
      "execution_count": null,
      "metadata": {
        "colab": {
          "base_uri": "https://localhost:8080/"
        },
        "id": "L8If-TOe4BZO",
        "outputId": "0ed08fba-ad75-48a9-be34-b4976f286bb7"
      },
      "outputs": [
        {
          "output_type": "stream",
          "name": "stderr",
          "text": [
            "Downloading: \"https://github.com/bshall/knn-vc/zipball/master\" to /root/.cache/torch/hub/master.zip\n",
            "Downloading: \"https://github.com/bshall/knn-vc/releases/download/v0.1/prematch_g_02500000.pt\" to /root/.cache/torch/hub/checkpoints/prematch_g_02500000.pt\n",
            "100%|██████████| 63.1M/63.1M [00:03<00:00, 20.5MB/s]\n",
            "Downloading: \"https://github.com/bshall/knn-vc/releases/download/v0.1/WavLM-Large.pt\" to /root/.cache/torch/hub/checkpoints/WavLM-Large.pt\n"
          ]
        },
        {
          "output_type": "stream",
          "name": "stdout",
          "text": [
            "Removing weight norm...\n",
            "[HiFiGAN] Generator loaded with 16,523,393 parameters.\n"
          ]
        },
        {
          "output_type": "stream",
          "name": "stderr",
          "text": [
            "100%|██████████| 1.18G/1.18G [00:43<00:00, 28.8MB/s]\n"
          ]
        },
        {
          "output_type": "stream",
          "name": "stdout",
          "text": [
            "WavLM-Large loaded with 315,453,120 parameters.\n"
          ]
        }
      ],
      "source": [
        "import torch, torchaudio\n",
        "\n",
        "knn_vc = torch.hub.load('BanDanBan1/knn-vc', 'knn_vc', prematched=True, trust_repo=True, pretrained=True, device='cuda')"
      ]
    },
    {
      "cell_type": "code",
      "source": [
        "# if needed mount drive (/content/drive/MyDrive/)\n",
        "\n",
        "from google.colab import drive\n",
        "drive.mount('/content/drive')"
      ],
      "metadata": {
        "id": "yvJ4_7K5x8d-",
        "colab": {
          "base_uri": "https://localhost:8080/"
        },
        "outputId": "32d908bc-bf68-421e-a4fb-3821063ae702"
      },
      "execution_count": 1,
      "outputs": [
        {
          "output_type": "stream",
          "name": "stdout",
          "text": [
            "Mounted at /content/drive\n"
          ]
        }
      ]
    },
    {
      "cell_type": "markdown",
      "source": [
        "SET FILE NAMES of\n",
        "\n",
        "*   recorded text to be spoken - WHAT to say     (src)\n",
        "*   target speaker voice - VOICE to speak with   (ref)\n"
      ],
      "metadata": {
        "id": "duJ4Gzojyc-T"
      }
    },
    {
      "cell_type": "code",
      "source": [
        "stem_path = '/content/drive/MyDrive/קולות מאוב - רומן דיגיטלי/תרצה/tirza-'\n",
        "#  **  WHAT to say\n",
        "src_ver = 'text-1'\n",
        "# **  sound of VOICE to speak with\n",
        "ref_ver = 'audio-1'\n",
        "\n",
        "# path to 16kHz, single-channel, source waveform\n",
        "src_wav_path = stem_path + '-'+src_ver+'.wav' # -16k.wav'\n",
        "\n",
        "# path to 16kHz, single-channel, reference waveform\n",
        "ref_wav_path = stem_path + '-'+ref_ver+'.wav' # -16k.wav'\n",
        "\n",
        "# path to result\n",
        "OUT_wav_path = stem_path + '-'+src_ver+ref_ver+'.OUT.wav'"
      ],
      "metadata": {
        "id": "-2FRDpkXy0ok"
      },
      "execution_count": null,
      "outputs": []
    },
    {
      "cell_type": "code",
      "source": [
        "# get features of WHAT to say\n",
        "query_seq = knn_vc.get_features(src_wav_path)\n",
        "# get features of VOICE to speak with\n",
        "matching_set = knn_vc.get_matching_set([ref_wav_path,])\n",
        "\n",
        "# produce new speech\n",
        "out_wav = knn_vc.match(query_seq, matching_set, topk=4)"
      ],
      "metadata": {
        "id": "90enAprrzCGr"
      },
      "execution_count": null,
      "outputs": []
    },
    {
      "cell_type": "code",
      "source": [
        "import IPython.display as ipd"
      ],
      "metadata": {
        "id": "1YhPSQ4f4nF0"
      },
      "execution_count": null,
      "outputs": []
    },
    {
      "cell_type": "code",
      "source": [
        "ipd.Audio(out_wav.numpy(), rate=16000)"
      ],
      "metadata": {
        "id": "7-xbWSqf7iAK"
      },
      "execution_count": null,
      "outputs": []
    },
    {
      "cell_type": "code",
      "source": [
        "torchaudio.save(OUT_wav_path, out_wav[None], 16000)"
      ],
      "metadata": {
        "id": "QDA9xO_mB1eD"
      },
      "execution_count": null,
      "outputs": []
    },
    {
      "cell_type": "markdown",
      "source": [
        "<audio name=\"abstract-reader\" controls preload src=\"https://github.com/bshall/knn-vc/releases/download/v0.1/david-attenborough.wav\"></audio>"
      ],
      "metadata": {
        "id": "wyWtICjSECkF"
      }
    }
  ]
}